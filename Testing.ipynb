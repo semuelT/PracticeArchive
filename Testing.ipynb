{
 "cells": [
  {
   "cell_type": "code",
   "execution_count": null,
   "id": "6372a6a8",
   "metadata": {
    "vscode": {
     "languageId": "cpp"
    }
   },
   "outputs": [
    {
     "name": "stderr",
     "output_type": "stream",
     "text": [
      "In file included from input_line_1:1:\n",
      "In file included from /opt/conda/bin/../lib/gcc/../../x86_64-conda-linux-gnu/include/c++/10.4.0/new:41:\n",
      "In file included from /opt/conda/bin/../lib/gcc/../../x86_64-conda-linux-gnu/include/c++/10.4.0/exception:147:\n",
      "In file included from /opt/conda/bin/../lib/gcc/../../x86_64-conda-linux-gnu/include/c++/10.4.0/bits/exception_ptr.h:43:\n",
      "In file included from /opt/conda/bin/../lib/gcc/../../x86_64-conda-linux-gnu/include/c++/10.4.0/bits/move.h:57:\n",
      "\u001b[1m/opt/conda/bin/../lib/gcc/../../x86_64-conda-linux-gnu/include/c++/10.4.0/type_traits:144:31: \u001b[0m\u001b[0;1;31merror: \u001b[0m\u001b[1mno member named 'value' in 'std::__not_<std::is_lvalue_reference<std::basic_ostream<char> &> >'\u001b[0m\n",
      "    : public conditional<_B1::value, __and_<_B2, _B3, _Bn...>, _B1>::type\n",
      "\u001b[0;1;32m                         ~~~~~^\n",
      "\u001b[0m\u001b[1m/opt/conda/bin/../lib/gcc/../../x86_64-conda-linux-gnu/include/c++/10.4.0/ostream:767:24: \u001b[0m\u001b[0;1;30mnote: \u001b[0min instantiation of template class 'std::__and_<std::__not_<std::is_lvalue_reference<std::basic_ostream<char> &> >, std::__is_convertible_to_basic_ostream<std::basic_ostream<char> &>, std::__is_insertable<std::basic_ostream<char> &, char const (&)[14], void> >' requested here\u001b[0m\n",
      "    typename enable_if<__and_<__not_<is_lvalue_reference<_Ostream>>,\n",
      "\u001b[0;1;32m                       ^\n",
      "\u001b[0m\u001b[1minput_line_13:3:6: \u001b[0m\u001b[0;1;30mnote: \u001b[0mwhile substituting deduced template arguments into function template 'operator<<' [with _Ostream = std::basic_ostream<char> &, _Tp = char [14]]\u001b[0m\n",
      "cout << \"Hello, world!\";\n",
      "\u001b[0;1;32m     ^\n",
      "\u001b[0mIn file included from input_line_5:1:\n",
      "In file included from /opt/conda/include/xeus/xinterpreter.hpp:17:\n",
      "In file included from /opt/conda/include/xeus/xcomm.hpp:19:\n",
      "In file included from /opt/conda/include/nlohmann/json.hpp:35:\n",
      "In file included from /opt/conda/include/nlohmann/adl_serializer.hpp:14:\n",
      "In file included from /opt/conda/include/nlohmann/detail/conversions/from_json.hpp:27:\n",
      "In file included from /opt/conda/include/nlohmann/detail/meta/std_fs.hpp:22:\n",
      "In file included from /opt/conda/bin/../lib/gcc/../../x86_64-conda-linux-gnu/include/c++/10.4.0/filesystem:45:\n",
      "In file included from /opt/conda/bin/../lib/gcc/../../x86_64-conda-linux-gnu/include/c++/10.4.0/bits/fs_path.h:39:\n",
      "In file included from /opt/conda/bin/../lib/gcc/../../x86_64-conda-linux-gnu/include/c++/10.4.0/iomanip:45:\n",
      "In file included from /opt/conda/bin/../lib/gcc/../../x86_64-conda-linux-gnu/include/c++/10.4.0/bits/quoted_string.h:38:\n",
      "In file included from /opt/conda/bin/../lib/gcc/../../x86_64-conda-linux-gnu/include/c++/10.4.0/sstream:38:\n",
      "In file included from /opt/conda/bin/../lib/gcc/../../x86_64-conda-linux-gnu/include/c++/10.4.0/istream:39:\n",
      "\u001b[1m/opt/conda/bin/../lib/gcc/../../x86_64-conda-linux-gnu/include/c++/10.4.0/ostream:609:8: \u001b[0m\u001b[0;1;31merror: \u001b[0m\u001b[1mno member named 'setstate' in 'std::basic_ostream<char>'\u001b[0m\n",
      "        __out.setstate(ios_base::badbit);\n",
      "\u001b[0;1;32m        ~~~~~ ^\n",
      "\u001b[0m\u001b[1minput_line_13:3:6: \u001b[0m\u001b[0;1;30mnote: \u001b[0min instantiation of function template specialization 'std::operator<<<std::char_traits<char> >' requested here\u001b[0m\n",
      "cout << \"Hello, world!\";\n",
      "\u001b[0;1;32m     ^\n",
      "\u001b[0m"
     ]
    },
    {
     "ename": "Interpreter Error",
     "evalue": "",
     "output_type": "error",
     "traceback": [
      "Interpreter Error: "
     ]
    }
   ],
   "source": [
    "#include <bits/stdc++.h>\n",
    "using namespace std;\n",
    "cout << \"Hello, world!\";"
   ]
  }
 ],
 "metadata": {
  "kernelspec": {
   "display_name": "C++14",
   "language": "C++14",
   "name": "xcpp14"
  },
  "language_info": {
   "codemirror_mode": "text/x-c++src",
   "file_extension": ".cpp",
   "mimetype": "text/x-c++src",
   "name": "C++14",
   "version": "17"
  }
 },
 "nbformat": 4,
 "nbformat_minor": 5
}
